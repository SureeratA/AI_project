{
  "nbformat": 4,
  "nbformat_minor": 0,
  "metadata": {
    "colab": {
      "name": "AI_project.ipynb",
      "provenance": [],
      "authorship_tag": "ABX9TyOC80iz61PdukpfwXZZLR54",
      "include_colab_link": true
    },
    "kernelspec": {
      "name": "python3",
      "display_name": "Python 3"
    },
    "language_info": {
      "name": "python"
    }
  },
  "cells": [
    {
      "cell_type": "markdown",
      "metadata": {
        "id": "view-in-github",
        "colab_type": "text"
      },
      "source": [
        "<a href=\"https://colab.research.google.com/github/pslrory/AI_project/blob/main/AI_project.ipynb\" target=\"_parent\"><img src=\"https://colab.research.google.com/assets/colab-badge.svg\" alt=\"Open In Colab\"/></a>"
      ]
    },
    {
      "cell_type": "markdown",
      "metadata": {
        "id": "Kzcj_nJKLJK0"
      },
      "source": [
        "#ติดตั้งแพ็กเกจ"
      ]
    },
    {
      "cell_type": "code",
      "metadata": {
        "id": "vUj8vXI2iU47"
      },
      "source": [
        "import pandas as pd\n",
        "import pandasql\n"
      ],
      "execution_count": 1,
      "outputs": []
    },
    {
      "cell_type": "code",
      "metadata": {
        "colab": {
          "base_uri": "https://localhost:8080/"
        },
        "id": "zqui7y_0ibe1",
        "outputId": "ca5ada22-fc4b-4352-c304-ba6a4ef4c8dd"
      },
      "source": [
        "!pip install pandas\n"
      ],
      "execution_count": 2,
      "outputs": [
        {
          "output_type": "stream",
          "text": [
            "Requirement already satisfied: pandas in /usr/local/lib/python3.7/dist-packages (1.1.5)\n",
            "Requirement already satisfied: python-dateutil>=2.7.3 in /usr/local/lib/python3.7/dist-packages (from pandas) (2.8.2)\n",
            "Requirement already satisfied: numpy>=1.15.4 in /usr/local/lib/python3.7/dist-packages (from pandas) (1.19.5)\n",
            "Requirement already satisfied: pytz>=2017.2 in /usr/local/lib/python3.7/dist-packages (from pandas) (2018.9)\n",
            "Requirement already satisfied: six>=1.5 in /usr/local/lib/python3.7/dist-packages (from python-dateutil>=2.7.3->pandas) (1.15.0)\n"
          ],
          "name": "stdout"
        }
      ]
    },
    {
      "cell_type": "code",
      "metadata": {
        "colab": {
          "base_uri": "https://localhost:8080/"
        },
        "id": "Ekeq-X2_iqNU",
        "outputId": "418cc13e-4b5f-4b2a-973f-0ee14bac59f1"
      },
      "source": [
        "!pip install pandasql"
      ],
      "execution_count": 3,
      "outputs": [
        {
          "output_type": "stream",
          "text": [
            "Requirement already satisfied: pandasql in /usr/local/lib/python3.7/dist-packages (0.7.3)\n",
            "Requirement already satisfied: sqlalchemy in /usr/local/lib/python3.7/dist-packages (from pandasql) (1.4.22)\n",
            "Requirement already satisfied: numpy in /usr/local/lib/python3.7/dist-packages (from pandasql) (1.19.5)\n",
            "Requirement already satisfied: pandas in /usr/local/lib/python3.7/dist-packages (from pandasql) (1.1.5)\n",
            "Requirement already satisfied: python-dateutil>=2.7.3 in /usr/local/lib/python3.7/dist-packages (from pandas->pandasql) (2.8.2)\n",
            "Requirement already satisfied: pytz>=2017.2 in /usr/local/lib/python3.7/dist-packages (from pandas->pandasql) (2018.9)\n",
            "Requirement already satisfied: six>=1.5 in /usr/local/lib/python3.7/dist-packages (from python-dateutil>=2.7.3->pandas->pandasql) (1.15.0)\n",
            "Requirement already satisfied: greenlet!=0.4.17 in /usr/local/lib/python3.7/dist-packages (from sqlalchemy->pandasql) (1.1.1)\n",
            "Requirement already satisfied: importlib-metadata in /usr/local/lib/python3.7/dist-packages (from sqlalchemy->pandasql) (4.6.4)\n",
            "Requirement already satisfied: zipp>=0.5 in /usr/local/lib/python3.7/dist-packages (from importlib-metadata->sqlalchemy->pandasql) (3.5.0)\n",
            "Requirement already satisfied: typing-extensions>=3.6.4 in /usr/local/lib/python3.7/dist-packages (from importlib-metadata->sqlalchemy->pandasql) (3.7.4.3)\n"
          ],
          "name": "stdout"
        }
      ]
    },
    {
      "cell_type": "markdown",
      "metadata": {
        "id": "b1B2d6Y6Lgp9"
      },
      "source": [
        "# นำเข้าข้อมูลที่จะใช้"
      ]
    },
    {
      "cell_type": "code",
      "metadata": {
        "id": "hHUkK10ZjHru"
      },
      "source": [
        "form=pd.read_csv(\"/content/Untitled form (Responses) - Form Responses 1 (1).csv.crdownload\") "
      ],
      "execution_count": 4,
      "outputs": []
    },
    {
      "cell_type": "markdown",
      "metadata": {
        "id": "1laq9qDyLsEz"
      },
      "source": [
        "#ตรวจสอบแถวและคอลัมน์"
      ]
    },
    {
      "cell_type": "code",
      "metadata": {
        "colab": {
          "base_uri": "https://localhost:8080/"
        },
        "id": "5X4R0BrsjjWV",
        "outputId": "63f523cb-8985-46df-fbd7-8b1670e11511"
      },
      "source": [
        "form_AI = pd.DataFrame(form)\n",
        "form_AI.shape "
      ],
      "execution_count": 5,
      "outputs": [
        {
          "output_type": "execute_result",
          "data": {
            "text/plain": [
              "(121, 9)"
            ]
          },
          "metadata": {},
          "execution_count": 5
        }
      ]
    },
    {
      "cell_type": "markdown",
      "metadata": {
        "id": "mnvb4V1AVE4E"
      },
      "source": [
        "#ตรวจสอบชื่อคอลัมน์"
      ]
    },
    {
      "cell_type": "code",
      "metadata": {
        "colab": {
          "base_uri": "https://localhost:8080/"
        },
        "id": "gotaSB5ljmMg",
        "outputId": "81a09b80-208a-48a9-9a83-9b1bcd77badd"
      },
      "source": [
        "form_AI.columns "
      ],
      "execution_count": 6,
      "outputs": [
        {
          "output_type": "execute_result",
          "data": {
            "text/plain": [
              "Index(['Timestamp', 'อายุ', 'เพศ',\n",
              "       'คุณคิดว่า AI หรือ ปัญญาประดิษฐ์ มีความสำคัญและจำเป็นในการใช้ชีวิตประจำวันของคุณหรือไม่',\n",
              "       'คุณมีความรู้ความสนใจเรื่องระบบ AI มากน้อยเพียงใด',\n",
              "       'คุณคิดว่าระบบ AI มีการเข้าถึงและการใช้งานง่ายหรือไม่',\n",
              "       'คุณต้องการให้ระบบ AI มามีส่วนช่วยในเรื่องใดมากที่สุด',\n",
              "       'คุณคิดว่าจะมีผลตามมาอย่างไร หากมีการใช้ AI มากขึ้น',\n",
              "       'ส่วนใหญ่คุณได้รับข้อมูลข่าวสารเกี่ยวกับระบบ AI ผ่านช่องทางใดมากที่สุด'],\n",
              "      dtype='object')"
            ]
          },
          "metadata": {},
          "execution_count": 6
        }
      ]
    },
    {
      "cell_type": "markdown",
      "metadata": {
        "id": "f1kpIJaqVUph"
      },
      "source": [
        "#แสดงผลข้อมูล"
      ]
    },
    {
      "cell_type": "code",
      "metadata": {
        "colab": {
          "base_uri": "https://localhost:8080/",
          "height": 1000
        },
        "id": "66N8yE7xjoO3",
        "outputId": "0253ef45-605b-4e80-bd80-edee61a7c6a2"
      },
      "source": [
        "form_AI.head(30) "
      ],
      "execution_count": 7,
      "outputs": [
        {
          "output_type": "execute_result",
          "data": {
            "text/html": [
              "<div>\n",
              "<style scoped>\n",
              "    .dataframe tbody tr th:only-of-type {\n",
              "        vertical-align: middle;\n",
              "    }\n",
              "\n",
              "    .dataframe tbody tr th {\n",
              "        vertical-align: top;\n",
              "    }\n",
              "\n",
              "    .dataframe thead th {\n",
              "        text-align: right;\n",
              "    }\n",
              "</style>\n",
              "<table border=\"1\" class=\"dataframe\">\n",
              "  <thead>\n",
              "    <tr style=\"text-align: right;\">\n",
              "      <th></th>\n",
              "      <th>Timestamp</th>\n",
              "      <th>อายุ</th>\n",
              "      <th>เพศ</th>\n",
              "      <th>คุณคิดว่า AI หรือ ปัญญาประดิษฐ์ มีความสำคัญและจำเป็นในการใช้ชีวิตประจำวันของคุณหรือไม่</th>\n",
              "      <th>คุณมีความรู้ความสนใจเรื่องระบบ AI มากน้อยเพียงใด</th>\n",
              "      <th>คุณคิดว่าระบบ AI มีการเข้าถึงและการใช้งานง่ายหรือไม่</th>\n",
              "      <th>คุณต้องการให้ระบบ AI มามีส่วนช่วยในเรื่องใดมากที่สุด</th>\n",
              "      <th>คุณคิดว่าจะมีผลตามมาอย่างไร หากมีการใช้ AI มากขึ้น</th>\n",
              "      <th>ส่วนใหญ่คุณได้รับข้อมูลข่าวสารเกี่ยวกับระบบ AI ผ่านช่องทางใดมากที่สุด</th>\n",
              "    </tr>\n",
              "  </thead>\n",
              "  <tbody>\n",
              "    <tr>\n",
              "      <th>0</th>\n",
              "      <td>8/11/2021 22:09:25</td>\n",
              "      <td>18 - 22</td>\n",
              "      <td>หญิง</td>\n",
              "      <td>มี</td>\n",
              "      <td>2</td>\n",
              "      <td>2</td>\n",
              "      <td>NaN</td>\n",
              "      <td>NaN</td>\n",
              "      <td>NaN</td>\n",
              "    </tr>\n",
              "    <tr>\n",
              "      <th>1</th>\n",
              "      <td>8/11/2021 22:55:31</td>\n",
              "      <td>18 - 22</td>\n",
              "      <td>หญิง</td>\n",
              "      <td>มี</td>\n",
              "      <td>2</td>\n",
              "      <td>2</td>\n",
              "      <td>การศึกษา</td>\n",
              "      <td>ปัญหาการถูกแย่งอาชีพ</td>\n",
              "      <td>Twitter</td>\n",
              "    </tr>\n",
              "    <tr>\n",
              "      <th>2</th>\n",
              "      <td>8/11/2021 23:08:13</td>\n",
              "      <td>18 - 22</td>\n",
              "      <td>หญิง</td>\n",
              "      <td>มี</td>\n",
              "      <td>3</td>\n",
              "      <td>1</td>\n",
              "      <td>ทำความสะอาดบ้าน</td>\n",
              "      <td>สะดวกสบายขึ้น</td>\n",
              "      <td>Twitter</td>\n",
              "    </tr>\n",
              "    <tr>\n",
              "      <th>3</th>\n",
              "      <td>8/11/2021 23:08:25</td>\n",
              "      <td>18 - 22</td>\n",
              "      <td>LGBTQA+++</td>\n",
              "      <td>มี</td>\n",
              "      <td>2</td>\n",
              "      <td>2</td>\n",
              "      <td>การแพทย์</td>\n",
              "      <td>มนุษย์สะดวกสบายมากขึ้น</td>\n",
              "      <td>Facebook</td>\n",
              "    </tr>\n",
              "    <tr>\n",
              "      <th>4</th>\n",
              "      <td>8/11/2021 23:09:07</td>\n",
              "      <td>23-27</td>\n",
              "      <td>LGBTQA+++</td>\n",
              "      <td>มี</td>\n",
              "      <td>3</td>\n",
              "      <td>2</td>\n",
              "      <td>การสื่อสาร</td>\n",
              "      <td>มนุษย์อาจจะละเลยการทำงานที่เรียบง่ายไป</td>\n",
              "      <td>Facebook</td>\n",
              "    </tr>\n",
              "    <tr>\n",
              "      <th>5</th>\n",
              "      <td>8/11/2021 23:09:59</td>\n",
              "      <td>18 - 22</td>\n",
              "      <td>หญิง</td>\n",
              "      <td>มี</td>\n",
              "      <td>3</td>\n",
              "      <td>2</td>\n",
              "      <td>ข่าวสาร</td>\n",
              "      <td>คนเป็นง่อย</td>\n",
              "      <td>TV</td>\n",
              "    </tr>\n",
              "    <tr>\n",
              "      <th>6</th>\n",
              "      <td>8/11/2021 23:11:30</td>\n",
              "      <td>18 - 22</td>\n",
              "      <td>ชาย</td>\n",
              "      <td>มี</td>\n",
              "      <td>3</td>\n",
              "      <td>2</td>\n",
              "      <td>การวางผังเมือง , การตรวจสอบงบประมาณของทางราชกา...</td>\n",
              "      <td>มีทั้งผลดีและผลเสีย เพราะว่าช่วยอำนวยความสะดวก...</td>\n",
              "      <td>Facebook</td>\n",
              "    </tr>\n",
              "    <tr>\n",
              "      <th>7</th>\n",
              "      <td>8/11/2021 23:11:48</td>\n",
              "      <td>18 - 22</td>\n",
              "      <td>หญิง</td>\n",
              "      <td>มี</td>\n",
              "      <td>3</td>\n",
              "      <td>2</td>\n",
              "      <td>การแปลภาษา</td>\n",
              "      <td>สะสวกสบาย</td>\n",
              "      <td>TV</td>\n",
              "    </tr>\n",
              "    <tr>\n",
              "      <th>8</th>\n",
              "      <td>8/11/2021 23:12:13</td>\n",
              "      <td>18 - 22</td>\n",
              "      <td>หญิง</td>\n",
              "      <td>มี</td>\n",
              "      <td>4</td>\n",
              "      <td>1</td>\n",
              "      <td>การศึกษา​</td>\n",
              "      <td>สะดวกสะบายต่อโลกยุคนี้</td>\n",
              "      <td>Facebook</td>\n",
              "    </tr>\n",
              "    <tr>\n",
              "      <th>9</th>\n",
              "      <td>8/11/2021 23:12:52</td>\n",
              "      <td>18 - 22</td>\n",
              "      <td>หญิง</td>\n",
              "      <td>มี</td>\n",
              "      <td>4</td>\n",
              "      <td>2</td>\n",
              "      <td>ทางการแพทย์</td>\n",
              "      <td>สะดวก</td>\n",
              "      <td>Webpage</td>\n",
              "    </tr>\n",
              "    <tr>\n",
              "      <th>10</th>\n",
              "      <td>8/11/2021 23:15:18</td>\n",
              "      <td>18 - 22</td>\n",
              "      <td>หญิง</td>\n",
              "      <td>มี</td>\n",
              "      <td>5</td>\n",
              "      <td>1</td>\n",
              "      <td>การศึกษา</td>\n",
              "      <td>ปัญหาทางด้านสุขภาพ</td>\n",
              "      <td>Webpage</td>\n",
              "    </tr>\n",
              "    <tr>\n",
              "      <th>11</th>\n",
              "      <td>8/11/2021 23:16:00</td>\n",
              "      <td>18 - 22</td>\n",
              "      <td>ชาย</td>\n",
              "      <td>มี</td>\n",
              "      <td>4</td>\n",
              "      <td>1</td>\n",
              "      <td>การแพทย์</td>\n",
              "      <td>สะดวกสบายมากขึ้น</td>\n",
              "      <td>Facebook</td>\n",
              "    </tr>\n",
              "    <tr>\n",
              "      <th>12</th>\n",
              "      <td>8/11/2021 23:16:05</td>\n",
              "      <td>18 - 22</td>\n",
              "      <td>ชาย</td>\n",
              "      <td>มี</td>\n",
              "      <td>3</td>\n",
              "      <td>2</td>\n",
              "      <td>งานบ้าน</td>\n",
              "      <td>สะดวกสบายมากขึ้น</td>\n",
              "      <td>Webpage</td>\n",
              "    </tr>\n",
              "    <tr>\n",
              "      <th>13</th>\n",
              "      <td>8/11/2021 23:16:13</td>\n",
              "      <td>18 - 22</td>\n",
              "      <td>หญิง</td>\n",
              "      <td>มี</td>\n",
              "      <td>1</td>\n",
              "      <td>1</td>\n",
              "      <td>การขนส่งสาธารณะ</td>\n",
              "      <td>สะดวกสบาย</td>\n",
              "      <td>Webpage</td>\n",
              "    </tr>\n",
              "    <tr>\n",
              "      <th>14</th>\n",
              "      <td>8/11/2021 23:16:44</td>\n",
              "      <td>18 - 22</td>\n",
              "      <td>LGBTQA+++</td>\n",
              "      <td>มี</td>\n",
              "      <td>4</td>\n",
              "      <td>2</td>\n",
              "      <td>การทำงาน</td>\n",
              "      <td>มนุษย์ขี้เกียจขึ้น</td>\n",
              "      <td>Twitter</td>\n",
              "    </tr>\n",
              "    <tr>\n",
              "      <th>15</th>\n",
              "      <td>8/11/2021 23:17:28</td>\n",
              "      <td>18 - 22</td>\n",
              "      <td>หญิง</td>\n",
              "      <td>มี</td>\n",
              "      <td>2</td>\n",
              "      <td>2</td>\n",
              "      <td>ด้านการแพทย์</td>\n",
              "      <td>ความสะดวกสบาย</td>\n",
              "      <td>Facebook</td>\n",
              "    </tr>\n",
              "    <tr>\n",
              "      <th>16</th>\n",
              "      <td>8/11/2021 23:18:32</td>\n",
              "      <td>18 - 22</td>\n",
              "      <td>ชาย</td>\n",
              "      <td>มี</td>\n",
              "      <td>5</td>\n",
              "      <td>3</td>\n",
              "      <td>ชีวิตประจำวัน</td>\n",
              "      <td>มนุษย์มีบทบาทการทำอะไรต่างๆลดลว</td>\n",
              "      <td>Facebook</td>\n",
              "    </tr>\n",
              "    <tr>\n",
              "      <th>17</th>\n",
              "      <td>8/11/2021 23:19:29</td>\n",
              "      <td>18 - 22</td>\n",
              "      <td>หญิง</td>\n",
              "      <td>มี</td>\n",
              "      <td>4</td>\n",
              "      <td>3</td>\n",
              "      <td>เรื่องเรียน</td>\n",
              "      <td>น่าจะดี</td>\n",
              "      <td>Facebook</td>\n",
              "    </tr>\n",
              "    <tr>\n",
              "      <th>18</th>\n",
              "      <td>8/11/2021 23:25:31</td>\n",
              "      <td>18 - 22</td>\n",
              "      <td>หญิง</td>\n",
              "      <td>มี</td>\n",
              "      <td>3</td>\n",
              "      <td>2</td>\n",
              "      <td>ข่าวสาร</td>\n",
              "      <td>มนุษย์ตกงานมากขึ้น</td>\n",
              "      <td>Facebook</td>\n",
              "    </tr>\n",
              "    <tr>\n",
              "      <th>19</th>\n",
              "      <td>8/11/2021 23:26:33</td>\n",
              "      <td>18 - 22</td>\n",
              "      <td>LGBTQA+++</td>\n",
              "      <td>มี</td>\n",
              "      <td>2</td>\n",
              "      <td>1</td>\n",
              "      <td>รถ ควบคุมการขับขี่</td>\n",
              "      <td>ใช้ชีวิตได้ง่ายขึ้น สะดวก</td>\n",
              "      <td>Twitter</td>\n",
              "    </tr>\n",
              "    <tr>\n",
              "      <th>20</th>\n",
              "      <td>8/11/2021 23:27:20</td>\n",
              "      <td>18 - 22</td>\n",
              "      <td>หญิง</td>\n",
              "      <td>มี</td>\n",
              "      <td>2</td>\n",
              "      <td>2</td>\n",
              "      <td>การศึกษา</td>\n",
              "      <td>บทบาทหน้าที่ของมนุษย์ลดน้อยลง</td>\n",
              "      <td>Webpage</td>\n",
              "    </tr>\n",
              "    <tr>\n",
              "      <th>21</th>\n",
              "      <td>8/11/2021 23:40:20</td>\n",
              "      <td>18 - 22</td>\n",
              "      <td>หญิง</td>\n",
              "      <td>มี</td>\n",
              "      <td>3</td>\n",
              "      <td>2</td>\n",
              "      <td>ด้านสาธารณสุข</td>\n",
              "      <td>อาชีพบางอาชีพอาจจะตกงานหรือหางานยากขึ้น</td>\n",
              "      <td>YouTube</td>\n",
              "    </tr>\n",
              "    <tr>\n",
              "      <th>22</th>\n",
              "      <td>8/11/2021 23:41:44</td>\n",
              "      <td>18 - 22</td>\n",
              "      <td>ชาย</td>\n",
              "      <td>มี</td>\n",
              "      <td>3</td>\n",
              "      <td>1</td>\n",
              "      <td>การรักษา</td>\n",
              "      <td>ชีวิตง่ายขึ้น</td>\n",
              "      <td>YouTube</td>\n",
              "    </tr>\n",
              "    <tr>\n",
              "      <th>23</th>\n",
              "      <td>8/11/2021 23:46:21</td>\n",
              "      <td>18 - 22</td>\n",
              "      <td>ชาย</td>\n",
              "      <td>มี</td>\n",
              "      <td>4</td>\n",
              "      <td>2</td>\n",
              "      <td>การแก้errorหรือแนะนำจากผู้ที่แก้ได้แล้วนำมาแชร์​</td>\n",
              "      <td>โลกจะมีความสะดวกสบาย​มากขึ้น</td>\n",
              "      <td>Facebook</td>\n",
              "    </tr>\n",
              "    <tr>\n",
              "      <th>24</th>\n",
              "      <td>8/11/2021 23:54:22</td>\n",
              "      <td>18 - 22</td>\n",
              "      <td>หญิง</td>\n",
              "      <td>มี</td>\n",
              "      <td>4</td>\n",
              "      <td>1</td>\n",
              "      <td>การเรียน</td>\n",
              "      <td>สะดวกมากขึ้น</td>\n",
              "      <td>Twitter</td>\n",
              "    </tr>\n",
              "    <tr>\n",
              "      <th>25</th>\n",
              "      <td>8/11/2021 23:55:17</td>\n",
              "      <td>18 - 22</td>\n",
              "      <td>ชาย</td>\n",
              "      <td>มี</td>\n",
              "      <td>3</td>\n",
              "      <td>2</td>\n",
              "      <td>การค้นหาข้อมูลที่ง่ายขึ้น</td>\n",
              "      <td>สะดวกในการใช้งานมากขึ้น</td>\n",
              "      <td>Facebook</td>\n",
              "    </tr>\n",
              "    <tr>\n",
              "      <th>26</th>\n",
              "      <td>8/11/2021 23:56:56</td>\n",
              "      <td>18 - 22</td>\n",
              "      <td>หญิง</td>\n",
              "      <td>มี</td>\n",
              "      <td>4</td>\n",
              "      <td>1</td>\n",
              "      <td>NaN</td>\n",
              "      <td>NaN</td>\n",
              "      <td>Twitter</td>\n",
              "    </tr>\n",
              "    <tr>\n",
              "      <th>27</th>\n",
              "      <td>8/11/2021 23:57:21</td>\n",
              "      <td>18 - 22</td>\n",
              "      <td>หญิง</td>\n",
              "      <td>มี</td>\n",
              "      <td>5</td>\n",
              "      <td>2</td>\n",
              "      <td>NaN</td>\n",
              "      <td>NaN</td>\n",
              "      <td>Twitter</td>\n",
              "    </tr>\n",
              "    <tr>\n",
              "      <th>28</th>\n",
              "      <td>8/11/2021 23:58:20</td>\n",
              "      <td>18 - 22</td>\n",
              "      <td>หญิง</td>\n",
              "      <td>มี</td>\n",
              "      <td>5</td>\n",
              "      <td>2</td>\n",
              "      <td>NaN</td>\n",
              "      <td>NaN</td>\n",
              "      <td>Twitter</td>\n",
              "    </tr>\n",
              "    <tr>\n",
              "      <th>29</th>\n",
              "      <td>8/12/2021 0:04:28</td>\n",
              "      <td>ต่ำกว่า 18 ปี</td>\n",
              "      <td>ชาย</td>\n",
              "      <td>มี</td>\n",
              "      <td>5</td>\n",
              "      <td>3</td>\n",
              "      <td>NaN</td>\n",
              "      <td>NaN</td>\n",
              "      <td>TV</td>\n",
              "    </tr>\n",
              "  </tbody>\n",
              "</table>\n",
              "</div>"
            ],
            "text/plain": [
              "             Timestamp  ... ส่วนใหญ่คุณได้รับข้อมูลข่าวสารเกี่ยวกับระบบ AI ผ่านช่องทางใดมากที่สุด\n",
              "0   8/11/2021 22:09:25  ...                                                NaN                   \n",
              "1   8/11/2021 22:55:31  ...                                            Twitter                   \n",
              "2   8/11/2021 23:08:13  ...                                            Twitter                   \n",
              "3   8/11/2021 23:08:25  ...                                           Facebook                   \n",
              "4   8/11/2021 23:09:07  ...                                           Facebook                   \n",
              "5   8/11/2021 23:09:59  ...                                                 TV                   \n",
              "6   8/11/2021 23:11:30  ...                                           Facebook                   \n",
              "7   8/11/2021 23:11:48  ...                                                 TV                   \n",
              "8   8/11/2021 23:12:13  ...                                           Facebook                   \n",
              "9   8/11/2021 23:12:52  ...                                            Webpage                   \n",
              "10  8/11/2021 23:15:18  ...                                            Webpage                   \n",
              "11  8/11/2021 23:16:00  ...                                           Facebook                   \n",
              "12  8/11/2021 23:16:05  ...                                            Webpage                   \n",
              "13  8/11/2021 23:16:13  ...                                            Webpage                   \n",
              "14  8/11/2021 23:16:44  ...                                            Twitter                   \n",
              "15  8/11/2021 23:17:28  ...                                           Facebook                   \n",
              "16  8/11/2021 23:18:32  ...                                           Facebook                   \n",
              "17  8/11/2021 23:19:29  ...                                           Facebook                   \n",
              "18  8/11/2021 23:25:31  ...                                           Facebook                   \n",
              "19  8/11/2021 23:26:33  ...                                            Twitter                   \n",
              "20  8/11/2021 23:27:20  ...                                            Webpage                   \n",
              "21  8/11/2021 23:40:20  ...                                           YouTube                    \n",
              "22  8/11/2021 23:41:44  ...                                           YouTube                    \n",
              "23  8/11/2021 23:46:21  ...                                           Facebook                   \n",
              "24  8/11/2021 23:54:22  ...                                            Twitter                   \n",
              "25  8/11/2021 23:55:17  ...                                           Facebook                   \n",
              "26  8/11/2021 23:56:56  ...                                            Twitter                   \n",
              "27  8/11/2021 23:57:21  ...                                            Twitter                   \n",
              "28  8/11/2021 23:58:20  ...                                            Twitter                   \n",
              "29   8/12/2021 0:04:28  ...                                                 TV                   \n",
              "\n",
              "[30 rows x 9 columns]"
            ]
          },
          "metadata": {},
          "execution_count": 7
        }
      ]
    },
    {
      "cell_type": "markdown",
      "metadata": {
        "id": "hb67qcMUVktg"
      },
      "source": [
        "#ตรวจสอบแถวและคอลัมน์ในชุดข้อมูลทั้งหมด"
      ]
    },
    {
      "cell_type": "code",
      "metadata": {
        "colab": {
          "base_uri": "https://localhost:8080/"
        },
        "id": "AZL562V_jrTS",
        "outputId": "b3d22af5-9ec1-4a2c-a5f3-78729bcb7ea7"
      },
      "source": [
        "form_AI.info()"
      ],
      "execution_count": 8,
      "outputs": [
        {
          "output_type": "stream",
          "text": [
            "<class 'pandas.core.frame.DataFrame'>\n",
            "RangeIndex: 121 entries, 0 to 120\n",
            "Data columns (total 9 columns):\n",
            " #   Column                                                                                  Non-Null Count  Dtype \n",
            "---  ------                                                                                  --------------  ----- \n",
            " 0   Timestamp                                                                               121 non-null    object\n",
            " 1   อายุ                                                                                    121 non-null    object\n",
            " 2   เพศ                                                                                     121 non-null    object\n",
            " 3   คุณคิดว่า AI หรือ ปัญญาประดิษฐ์ มีความสำคัญและจำเป็นในการใช้ชีวิตประจำวันของคุณหรือไม่  121 non-null    object\n",
            " 4   คุณมีความรู้ความสนใจเรื่องระบบ AI มากน้อยเพียงใด                                        121 non-null    int64 \n",
            " 5   คุณคิดว่าระบบ AI มีการเข้าถึงและการใช้งานง่ายหรือไม่                                    121 non-null    int64 \n",
            " 6   คุณต้องการให้ระบบ AI มามีส่วนช่วยในเรื่องใดมากที่สุด                                    114 non-null    object\n",
            " 7   คุณคิดว่าจะมีผลตามมาอย่างไร หากมีการใช้ AI มากขึ้น                                      113 non-null    object\n",
            " 8   ส่วนใหญ่คุณได้รับข้อมูลข่าวสารเกี่ยวกับระบบ AI ผ่านช่องทางใดมากที่สุด                   120 non-null    object\n",
            "dtypes: int64(2), object(7)\n",
            "memory usage: 8.6+ KB\n"
          ],
          "name": "stdout"
        }
      ]
    },
    {
      "cell_type": "markdown",
      "metadata": {
        "id": "uPue8a7KVufv"
      },
      "source": [
        "#ตรวจสอบ data ที่เป็น null"
      ]
    },
    {
      "cell_type": "code",
      "metadata": {
        "colab": {
          "base_uri": "https://localhost:8080/"
        },
        "id": "l2nJWQATjv5a",
        "outputId": "fcb360df-dbf8-42e0-d721-b92c23132b8b"
      },
      "source": [
        "form_AI.isnull().sum()"
      ],
      "execution_count": 9,
      "outputs": [
        {
          "output_type": "execute_result",
          "data": {
            "text/plain": [
              "Timestamp                                                                                 0\n",
              "อายุ                                                                                      0\n",
              "เพศ                                                                                       0\n",
              "คุณคิดว่า AI หรือ ปัญญาประดิษฐ์ มีความสำคัญและจำเป็นในการใช้ชีวิตประจำวันของคุณหรือไม่    0\n",
              "คุณมีความรู้ความสนใจเรื่องระบบ AI มากน้อยเพียงใด                                          0\n",
              "คุณคิดว่าระบบ AI มีการเข้าถึงและการใช้งานง่ายหรือไม่                                      0\n",
              "คุณต้องการให้ระบบ AI มามีส่วนช่วยในเรื่องใดมากที่สุด                                      7\n",
              "คุณคิดว่าจะมีผลตามมาอย่างไร หากมีการใช้ AI มากขึ้น                                        8\n",
              "ส่วนใหญ่คุณได้รับข้อมูลข่าวสารเกี่ยวกับระบบ AI ผ่านช่องทางใดมากที่สุด                     1\n",
              "dtype: int64"
            ]
          },
          "metadata": {},
          "execution_count": 9
        }
      ]
    },
    {
      "cell_type": "markdown",
      "metadata": {
        "id": "kt4bV2VMWfvJ"
      },
      "source": [
        "#ลบแถวข้อมูลที่ผิดออก แล้วตรวจสอบ data อีกครั้ง"
      ]
    },
    {
      "cell_type": "code",
      "metadata": {
        "colab": {
          "base_uri": "https://localhost:8080/",
          "height": 671
        },
        "id": "p2-CEFOAjzdw",
        "outputId": "2a313efe-32ed-4faa-d0ab-c0742ebf3c2e"
      },
      "source": [
        "form_AI = form_AI.drop(0, axis=0)\n",
        "form_AI.reset_index(drop=True)"
      ],
      "execution_count": 10,
      "outputs": [
        {
          "output_type": "execute_result",
          "data": {
            "text/html": [
              "<div>\n",
              "<style scoped>\n",
              "    .dataframe tbody tr th:only-of-type {\n",
              "        vertical-align: middle;\n",
              "    }\n",
              "\n",
              "    .dataframe tbody tr th {\n",
              "        vertical-align: top;\n",
              "    }\n",
              "\n",
              "    .dataframe thead th {\n",
              "        text-align: right;\n",
              "    }\n",
              "</style>\n",
              "<table border=\"1\" class=\"dataframe\">\n",
              "  <thead>\n",
              "    <tr style=\"text-align: right;\">\n",
              "      <th></th>\n",
              "      <th>Timestamp</th>\n",
              "      <th>อายุ</th>\n",
              "      <th>เพศ</th>\n",
              "      <th>คุณคิดว่า AI หรือ ปัญญาประดิษฐ์ มีความสำคัญและจำเป็นในการใช้ชีวิตประจำวันของคุณหรือไม่</th>\n",
              "      <th>คุณมีความรู้ความสนใจเรื่องระบบ AI มากน้อยเพียงใด</th>\n",
              "      <th>คุณคิดว่าระบบ AI มีการเข้าถึงและการใช้งานง่ายหรือไม่</th>\n",
              "      <th>คุณต้องการให้ระบบ AI มามีส่วนช่วยในเรื่องใดมากที่สุด</th>\n",
              "      <th>คุณคิดว่าจะมีผลตามมาอย่างไร หากมีการใช้ AI มากขึ้น</th>\n",
              "      <th>ส่วนใหญ่คุณได้รับข้อมูลข่าวสารเกี่ยวกับระบบ AI ผ่านช่องทางใดมากที่สุด</th>\n",
              "    </tr>\n",
              "  </thead>\n",
              "  <tbody>\n",
              "    <tr>\n",
              "      <th>0</th>\n",
              "      <td>8/11/2021 22:55:31</td>\n",
              "      <td>18 - 22</td>\n",
              "      <td>หญิง</td>\n",
              "      <td>มี</td>\n",
              "      <td>2</td>\n",
              "      <td>2</td>\n",
              "      <td>การศึกษา</td>\n",
              "      <td>ปัญหาการถูกแย่งอาชีพ</td>\n",
              "      <td>Twitter</td>\n",
              "    </tr>\n",
              "    <tr>\n",
              "      <th>1</th>\n",
              "      <td>8/11/2021 23:08:13</td>\n",
              "      <td>18 - 22</td>\n",
              "      <td>หญิง</td>\n",
              "      <td>มี</td>\n",
              "      <td>3</td>\n",
              "      <td>1</td>\n",
              "      <td>ทำความสะอาดบ้าน</td>\n",
              "      <td>สะดวกสบายขึ้น</td>\n",
              "      <td>Twitter</td>\n",
              "    </tr>\n",
              "    <tr>\n",
              "      <th>2</th>\n",
              "      <td>8/11/2021 23:08:25</td>\n",
              "      <td>18 - 22</td>\n",
              "      <td>LGBTQA+++</td>\n",
              "      <td>มี</td>\n",
              "      <td>2</td>\n",
              "      <td>2</td>\n",
              "      <td>การแพทย์</td>\n",
              "      <td>มนุษย์สะดวกสบายมากขึ้น</td>\n",
              "      <td>Facebook</td>\n",
              "    </tr>\n",
              "    <tr>\n",
              "      <th>3</th>\n",
              "      <td>8/11/2021 23:09:07</td>\n",
              "      <td>23-27</td>\n",
              "      <td>LGBTQA+++</td>\n",
              "      <td>มี</td>\n",
              "      <td>3</td>\n",
              "      <td>2</td>\n",
              "      <td>การสื่อสาร</td>\n",
              "      <td>มนุษย์อาจจะละเลยการทำงานที่เรียบง่ายไป</td>\n",
              "      <td>Facebook</td>\n",
              "    </tr>\n",
              "    <tr>\n",
              "      <th>4</th>\n",
              "      <td>8/11/2021 23:09:59</td>\n",
              "      <td>18 - 22</td>\n",
              "      <td>หญิง</td>\n",
              "      <td>มี</td>\n",
              "      <td>3</td>\n",
              "      <td>2</td>\n",
              "      <td>ข่าวสาร</td>\n",
              "      <td>คนเป็นง่อย</td>\n",
              "      <td>TV</td>\n",
              "    </tr>\n",
              "    <tr>\n",
              "      <th>...</th>\n",
              "      <td>...</td>\n",
              "      <td>...</td>\n",
              "      <td>...</td>\n",
              "      <td>...</td>\n",
              "      <td>...</td>\n",
              "      <td>...</td>\n",
              "      <td>...</td>\n",
              "      <td>...</td>\n",
              "      <td>...</td>\n",
              "    </tr>\n",
              "    <tr>\n",
              "      <th>115</th>\n",
              "      <td>8/20/2021 2:42:59</td>\n",
              "      <td>18 - 22</td>\n",
              "      <td>ชาย</td>\n",
              "      <td>มี / จำเป็นอย่างมาก</td>\n",
              "      <td>2</td>\n",
              "      <td>2</td>\n",
              "      <td>ระบบรักษาความปลอดภัย</td>\n",
              "      <td>Aiแย่งอาชีพคน</td>\n",
              "      <td>Twitter</td>\n",
              "    </tr>\n",
              "    <tr>\n",
              "      <th>116</th>\n",
              "      <td>8/20/2021 2:43:45</td>\n",
              "      <td>23-27</td>\n",
              "      <td>LGBTQA+++</td>\n",
              "      <td>มี / จำเป็นอย่างมาก</td>\n",
              "      <td>3</td>\n",
              "      <td>3</td>\n",
              "      <td>การเก็บข้อมูล</td>\n",
              "      <td>สะดวกมากขึ้น</td>\n",
              "      <td>TV</td>\n",
              "    </tr>\n",
              "    <tr>\n",
              "      <th>117</th>\n",
              "      <td>8/20/2021 2:44:33</td>\n",
              "      <td>มากกว่า 27 ปี</td>\n",
              "      <td>ชาย</td>\n",
              "      <td>มี / จำเป็นอย่างมาก</td>\n",
              "      <td>4</td>\n",
              "      <td>2</td>\n",
              "      <td>ระบบดิจิตอล</td>\n",
              "      <td>ทันสมัยขึ้น</td>\n",
              "      <td>Facebook</td>\n",
              "    </tr>\n",
              "    <tr>\n",
              "      <th>118</th>\n",
              "      <td>8/20/2021 15:20:29</td>\n",
              "      <td>ต่ำกว่า 18 ปี</td>\n",
              "      <td>ชาย</td>\n",
              "      <td>มี / จำเป็นอย่างมาก</td>\n",
              "      <td>4</td>\n",
              "      <td>2</td>\n",
              "      <td>การเรียน</td>\n",
              "      <td>ทำอะไรไม่เป็น</td>\n",
              "      <td>Facebook</td>\n",
              "    </tr>\n",
              "    <tr>\n",
              "      <th>119</th>\n",
              "      <td>8/20/2021 15:22:51</td>\n",
              "      <td>18 - 22</td>\n",
              "      <td>หญิง</td>\n",
              "      <td>มี / จำเป็นอย่างมาก</td>\n",
              "      <td>5</td>\n",
              "      <td>2</td>\n",
              "      <td>เรื่องการทำงาน</td>\n",
              "      <td>สุขภาพร่างกายอ่อนแอลง</td>\n",
              "      <td>ในห้องเรียน</td>\n",
              "    </tr>\n",
              "  </tbody>\n",
              "</table>\n",
              "<p>120 rows × 9 columns</p>\n",
              "</div>"
            ],
            "text/plain": [
              "              Timestamp  ... ส่วนใหญ่คุณได้รับข้อมูลข่าวสารเกี่ยวกับระบบ AI ผ่านช่องทางใดมากที่สุด\n",
              "0    8/11/2021 22:55:31  ...                                            Twitter                   \n",
              "1    8/11/2021 23:08:13  ...                                            Twitter                   \n",
              "2    8/11/2021 23:08:25  ...                                           Facebook                   \n",
              "3    8/11/2021 23:09:07  ...                                           Facebook                   \n",
              "4    8/11/2021 23:09:59  ...                                                 TV                   \n",
              "..                  ...  ...                                                ...                   \n",
              "115   8/20/2021 2:42:59  ...                                            Twitter                   \n",
              "116   8/20/2021 2:43:45  ...                                                 TV                   \n",
              "117   8/20/2021 2:44:33  ...                                           Facebook                   \n",
              "118  8/20/2021 15:20:29  ...                                           Facebook                   \n",
              "119  8/20/2021 15:22:51  ...                                        ในห้องเรียน                   \n",
              "\n",
              "[120 rows x 9 columns]"
            ]
          },
          "metadata": {},
          "execution_count": 10
        }
      ]
    },
    {
      "cell_type": "markdown",
      "metadata": {
        "id": "xXs6Lvx3XqVZ"
      },
      "source": [
        "#เปลี่ยน NaN --> ไม่มีความคิดเห็น"
      ]
    },
    {
      "cell_type": "code",
      "metadata": {
        "id": "B1cqZkhd8EdG"
      },
      "source": [
        "form_AI['คุณต้องการให้ระบบ AI มามีส่วนช่วยในเรื่องใดมากที่สุด'].fillna('ไม่มีความคิดเห็น',inplace=True) "
      ],
      "execution_count": 11,
      "outputs": []
    },
    {
      "cell_type": "code",
      "metadata": {
        "id": "eTMSP4wR8L-K"
      },
      "source": [
        "form_AI['คุณคิดว่าจะมีผลตามมาอย่างไร หากมีการใช้ AI มากขึ้น'].fillna('ไม่มีความคิดเห็น',inplace=True)"
      ],
      "execution_count": 12,
      "outputs": []
    },
    {
      "cell_type": "markdown",
      "metadata": {
        "id": "pk_FWKaRYAxu"
      },
      "source": [
        "#ตรวจสอบข้อมูล ที่เป็น null\n"
      ]
    },
    {
      "cell_type": "code",
      "metadata": {
        "colab": {
          "base_uri": "https://localhost:8080/"
        },
        "id": "H3uxSiFxo2eT",
        "outputId": "5e484654-2a80-4b85-8d72-2d13387c2fc8"
      },
      "source": [
        "form_AI.isnull().sum()"
      ],
      "execution_count": 13,
      "outputs": [
        {
          "output_type": "execute_result",
          "data": {
            "text/plain": [
              "Timestamp                                                                                 0\n",
              "อายุ                                                                                      0\n",
              "เพศ                                                                                       0\n",
              "คุณคิดว่า AI หรือ ปัญญาประดิษฐ์ มีความสำคัญและจำเป็นในการใช้ชีวิตประจำวันของคุณหรือไม่    0\n",
              "คุณมีความรู้ความสนใจเรื่องระบบ AI มากน้อยเพียงใด                                          0\n",
              "คุณคิดว่าระบบ AI มีการเข้าถึงและการใช้งานง่ายหรือไม่                                      0\n",
              "คุณต้องการให้ระบบ AI มามีส่วนช่วยในเรื่องใดมากที่สุด                                      0\n",
              "คุณคิดว่าจะมีผลตามมาอย่างไร หากมีการใช้ AI มากขึ้น                                        0\n",
              "ส่วนใหญ่คุณได้รับข้อมูลข่าวสารเกี่ยวกับระบบ AI ผ่านช่องทางใดมากที่สุด                     0\n",
              "dtype: int64"
            ]
          },
          "metadata": {},
          "execution_count": 13
        }
      ]
    },
    {
      "cell_type": "markdown",
      "metadata": {
        "id": "9NiBQfVzYNtR"
      },
      "source": [
        "#แสดงผลข้อมูลที่แก้ไข"
      ]
    },
    {
      "cell_type": "code",
      "metadata": {
        "colab": {
          "base_uri": "https://localhost:8080/",
          "height": 705
        },
        "id": "9EW4osi-8pGb",
        "outputId": "4ae0743c-5ea9-40fa-e3ef-ccfd0352f713"
      },
      "source": [
        "form_AI.head(70)"
      ],
      "execution_count": 14,
      "outputs": [
        {
          "output_type": "execute_result",
          "data": {
            "text/html": [
              "<div>\n",
              "<style scoped>\n",
              "    .dataframe tbody tr th:only-of-type {\n",
              "        vertical-align: middle;\n",
              "    }\n",
              "\n",
              "    .dataframe tbody tr th {\n",
              "        vertical-align: top;\n",
              "    }\n",
              "\n",
              "    .dataframe thead th {\n",
              "        text-align: right;\n",
              "    }\n",
              "</style>\n",
              "<table border=\"1\" class=\"dataframe\">\n",
              "  <thead>\n",
              "    <tr style=\"text-align: right;\">\n",
              "      <th></th>\n",
              "      <th>Timestamp</th>\n",
              "      <th>อายุ</th>\n",
              "      <th>เพศ</th>\n",
              "      <th>คุณคิดว่า AI หรือ ปัญญาประดิษฐ์ มีความสำคัญและจำเป็นในการใช้ชีวิตประจำวันของคุณหรือไม่</th>\n",
              "      <th>คุณมีความรู้ความสนใจเรื่องระบบ AI มากน้อยเพียงใด</th>\n",
              "      <th>คุณคิดว่าระบบ AI มีการเข้าถึงและการใช้งานง่ายหรือไม่</th>\n",
              "      <th>คุณต้องการให้ระบบ AI มามีส่วนช่วยในเรื่องใดมากที่สุด</th>\n",
              "      <th>คุณคิดว่าจะมีผลตามมาอย่างไร หากมีการใช้ AI มากขึ้น</th>\n",
              "      <th>ส่วนใหญ่คุณได้รับข้อมูลข่าวสารเกี่ยวกับระบบ AI ผ่านช่องทางใดมากที่สุด</th>\n",
              "    </tr>\n",
              "  </thead>\n",
              "  <tbody>\n",
              "    <tr>\n",
              "      <th>1</th>\n",
              "      <td>8/11/2021 22:55:31</td>\n",
              "      <td>18 - 22</td>\n",
              "      <td>หญิง</td>\n",
              "      <td>มี</td>\n",
              "      <td>2</td>\n",
              "      <td>2</td>\n",
              "      <td>การศึกษา</td>\n",
              "      <td>ปัญหาการถูกแย่งอาชีพ</td>\n",
              "      <td>Twitter</td>\n",
              "    </tr>\n",
              "    <tr>\n",
              "      <th>2</th>\n",
              "      <td>8/11/2021 23:08:13</td>\n",
              "      <td>18 - 22</td>\n",
              "      <td>หญิง</td>\n",
              "      <td>มี</td>\n",
              "      <td>3</td>\n",
              "      <td>1</td>\n",
              "      <td>ทำความสะอาดบ้าน</td>\n",
              "      <td>สะดวกสบายขึ้น</td>\n",
              "      <td>Twitter</td>\n",
              "    </tr>\n",
              "    <tr>\n",
              "      <th>3</th>\n",
              "      <td>8/11/2021 23:08:25</td>\n",
              "      <td>18 - 22</td>\n",
              "      <td>LGBTQA+++</td>\n",
              "      <td>มี</td>\n",
              "      <td>2</td>\n",
              "      <td>2</td>\n",
              "      <td>การแพทย์</td>\n",
              "      <td>มนุษย์สะดวกสบายมากขึ้น</td>\n",
              "      <td>Facebook</td>\n",
              "    </tr>\n",
              "    <tr>\n",
              "      <th>4</th>\n",
              "      <td>8/11/2021 23:09:07</td>\n",
              "      <td>23-27</td>\n",
              "      <td>LGBTQA+++</td>\n",
              "      <td>มี</td>\n",
              "      <td>3</td>\n",
              "      <td>2</td>\n",
              "      <td>การสื่อสาร</td>\n",
              "      <td>มนุษย์อาจจะละเลยการทำงานที่เรียบง่ายไป</td>\n",
              "      <td>Facebook</td>\n",
              "    </tr>\n",
              "    <tr>\n",
              "      <th>5</th>\n",
              "      <td>8/11/2021 23:09:59</td>\n",
              "      <td>18 - 22</td>\n",
              "      <td>หญิง</td>\n",
              "      <td>มี</td>\n",
              "      <td>3</td>\n",
              "      <td>2</td>\n",
              "      <td>ข่าวสาร</td>\n",
              "      <td>คนเป็นง่อย</td>\n",
              "      <td>TV</td>\n",
              "    </tr>\n",
              "    <tr>\n",
              "      <th>...</th>\n",
              "      <td>...</td>\n",
              "      <td>...</td>\n",
              "      <td>...</td>\n",
              "      <td>...</td>\n",
              "      <td>...</td>\n",
              "      <td>...</td>\n",
              "      <td>...</td>\n",
              "      <td>...</td>\n",
              "      <td>...</td>\n",
              "    </tr>\n",
              "    <tr>\n",
              "      <th>66</th>\n",
              "      <td>8/17/2021 11:36:24</td>\n",
              "      <td>18 - 22</td>\n",
              "      <td>ชาย</td>\n",
              "      <td>มี / จำเป็นอย่างมาก</td>\n",
              "      <td>2</td>\n",
              "      <td>1</td>\n",
              "      <td>นั้นดิ</td>\n",
              "      <td>สะดวกสบายมากขึ้น</td>\n",
              "      <td>Webpage</td>\n",
              "    </tr>\n",
              "    <tr>\n",
              "      <th>67</th>\n",
              "      <td>8/17/2021 12:20:07</td>\n",
              "      <td>18 - 22</td>\n",
              "      <td>หญิง</td>\n",
              "      <td>ในบางครั้งที่ค่อนข้างจำเป็น</td>\n",
              "      <td>3</td>\n",
              "      <td>2</td>\n",
              "      <td>แรงงาน เเละอื่นๆที่จำเป็น</td>\n",
              "      <td>ในบางอาชีพอาจทำให้มนุษย์ไม่มีงานทำ</td>\n",
              "      <td>Twitter</td>\n",
              "    </tr>\n",
              "    <tr>\n",
              "      <th>68</th>\n",
              "      <td>8/17/2021 12:43:20</td>\n",
              "      <td>18 - 22</td>\n",
              "      <td>หญิง</td>\n",
              "      <td>มี / จำเป็นอย่างมาก</td>\n",
              "      <td>4</td>\n",
              "      <td>2</td>\n",
              "      <td>การรักษาคนป่วย</td>\n",
              "      <td>คนจะไม่แข็งแรง ตัวสั้น</td>\n",
              "      <td>Facebook</td>\n",
              "    </tr>\n",
              "    <tr>\n",
              "      <th>69</th>\n",
              "      <td>8/17/2021 15:29:04</td>\n",
              "      <td>23-27</td>\n",
              "      <td>ชาย</td>\n",
              "      <td>มี / จำเป็นอย่างมาก</td>\n",
              "      <td>2</td>\n",
              "      <td>2</td>\n",
              "      <td>การทำงานบ้าน</td>\n",
              "      <td>ทำงานได้ดีมากขึ้น</td>\n",
              "      <td>Facebook</td>\n",
              "    </tr>\n",
              "    <tr>\n",
              "      <th>70</th>\n",
              "      <td>8/17/2021 15:30:56</td>\n",
              "      <td>ต่ำกว่า 18 ปี</td>\n",
              "      <td>ชาย</td>\n",
              "      <td>มี / จำเป็นอย่างมาก</td>\n",
              "      <td>3</td>\n",
              "      <td>1</td>\n",
              "      <td>การเล่นเกมที่สมจริง</td>\n",
              "      <td>อาจทำให้คนขี้เกียจขึ้น</td>\n",
              "      <td>TV</td>\n",
              "    </tr>\n",
              "  </tbody>\n",
              "</table>\n",
              "<p>70 rows × 9 columns</p>\n",
              "</div>"
            ],
            "text/plain": [
              "             Timestamp  ... ส่วนใหญ่คุณได้รับข้อมูลข่าวสารเกี่ยวกับระบบ AI ผ่านช่องทางใดมากที่สุด\n",
              "1   8/11/2021 22:55:31  ...                                            Twitter                   \n",
              "2   8/11/2021 23:08:13  ...                                            Twitter                   \n",
              "3   8/11/2021 23:08:25  ...                                           Facebook                   \n",
              "4   8/11/2021 23:09:07  ...                                           Facebook                   \n",
              "5   8/11/2021 23:09:59  ...                                                 TV                   \n",
              "..                 ...  ...                                                ...                   \n",
              "66  8/17/2021 11:36:24  ...                                            Webpage                   \n",
              "67  8/17/2021 12:20:07  ...                                            Twitter                   \n",
              "68  8/17/2021 12:43:20  ...                                           Facebook                   \n",
              "69  8/17/2021 15:29:04  ...                                           Facebook                   \n",
              "70  8/17/2021 15:30:56  ...                                                 TV                   \n",
              "\n",
              "[70 rows x 9 columns]"
            ]
          },
          "metadata": {},
          "execution_count": 14
        }
      ]
    },
    {
      "cell_type": "code",
      "metadata": {
        "id": "OQ9eMjij8xw-"
      },
      "source": [
        "form_AI.to_csv('AI_projecttest.csv')"
      ],
      "execution_count": 15,
      "outputs": []
    },
    {
      "cell_type": "markdown",
      "metadata": {
        "id": "Uq99zGtEYhh5"
      },
      "source": [
        "#แก้ไขหัวคอลัมน์"
      ]
    },
    {
      "cell_type": "code",
      "metadata": {
        "id": "Y8np_xmd9U3v"
      },
      "source": [
        "form_AI.rename(columns={'คุณคิดว่า AI หรือ ปัญญาประดิษฐ์ มีความสำคัญและจำเป็นในการใช้ชีวิตประจำวันของคุณหรือไม่':'คุณคิดว่าAIมีความจำเป็นในชีวิตประจำวันหรือไม่'},inplace=True)"
      ],
      "execution_count": 16,
      "outputs": []
    },
    {
      "cell_type": "code",
      "metadata": {
        "colab": {
          "base_uri": "https://localhost:8080/",
          "height": 356
        },
        "id": "tYqBnpsZ_AWY",
        "outputId": "1a37c5a5-95c9-4381-e660-8e96c2faeaf2"
      },
      "source": [
        "form_AI.head()"
      ],
      "execution_count": 17,
      "outputs": [
        {
          "output_type": "execute_result",
          "data": {
            "text/html": [
              "<div>\n",
              "<style scoped>\n",
              "    .dataframe tbody tr th:only-of-type {\n",
              "        vertical-align: middle;\n",
              "    }\n",
              "\n",
              "    .dataframe tbody tr th {\n",
              "        vertical-align: top;\n",
              "    }\n",
              "\n",
              "    .dataframe thead th {\n",
              "        text-align: right;\n",
              "    }\n",
              "</style>\n",
              "<table border=\"1\" class=\"dataframe\">\n",
              "  <thead>\n",
              "    <tr style=\"text-align: right;\">\n",
              "      <th></th>\n",
              "      <th>Timestamp</th>\n",
              "      <th>อายุ</th>\n",
              "      <th>เพศ</th>\n",
              "      <th>คุณคิดว่าAIมีความจำเป็นในชีวิตประจำวันหรือไม่</th>\n",
              "      <th>คุณมีความรู้ความสนใจเรื่องระบบ AI มากน้อยเพียงใด</th>\n",
              "      <th>คุณคิดว่าระบบ AI มีการเข้าถึงและการใช้งานง่ายหรือไม่</th>\n",
              "      <th>คุณต้องการให้ระบบ AI มามีส่วนช่วยในเรื่องใดมากที่สุด</th>\n",
              "      <th>คุณคิดว่าจะมีผลตามมาอย่างไร หากมีการใช้ AI มากขึ้น</th>\n",
              "      <th>ส่วนใหญ่คุณได้รับข้อมูลข่าวสารเกี่ยวกับระบบ AI ผ่านช่องทางใดมากที่สุด</th>\n",
              "    </tr>\n",
              "  </thead>\n",
              "  <tbody>\n",
              "    <tr>\n",
              "      <th>1</th>\n",
              "      <td>8/11/2021 22:55:31</td>\n",
              "      <td>18 - 22</td>\n",
              "      <td>หญิง</td>\n",
              "      <td>มี</td>\n",
              "      <td>2</td>\n",
              "      <td>2</td>\n",
              "      <td>การศึกษา</td>\n",
              "      <td>ปัญหาการถูกแย่งอาชีพ</td>\n",
              "      <td>Twitter</td>\n",
              "    </tr>\n",
              "    <tr>\n",
              "      <th>2</th>\n",
              "      <td>8/11/2021 23:08:13</td>\n",
              "      <td>18 - 22</td>\n",
              "      <td>หญิง</td>\n",
              "      <td>มี</td>\n",
              "      <td>3</td>\n",
              "      <td>1</td>\n",
              "      <td>ทำความสะอาดบ้าน</td>\n",
              "      <td>สะดวกสบายขึ้น</td>\n",
              "      <td>Twitter</td>\n",
              "    </tr>\n",
              "    <tr>\n",
              "      <th>3</th>\n",
              "      <td>8/11/2021 23:08:25</td>\n",
              "      <td>18 - 22</td>\n",
              "      <td>LGBTQA+++</td>\n",
              "      <td>มี</td>\n",
              "      <td>2</td>\n",
              "      <td>2</td>\n",
              "      <td>การแพทย์</td>\n",
              "      <td>มนุษย์สะดวกสบายมากขึ้น</td>\n",
              "      <td>Facebook</td>\n",
              "    </tr>\n",
              "    <tr>\n",
              "      <th>4</th>\n",
              "      <td>8/11/2021 23:09:07</td>\n",
              "      <td>23-27</td>\n",
              "      <td>LGBTQA+++</td>\n",
              "      <td>มี</td>\n",
              "      <td>3</td>\n",
              "      <td>2</td>\n",
              "      <td>การสื่อสาร</td>\n",
              "      <td>มนุษย์อาจจะละเลยการทำงานที่เรียบง่ายไป</td>\n",
              "      <td>Facebook</td>\n",
              "    </tr>\n",
              "    <tr>\n",
              "      <th>5</th>\n",
              "      <td>8/11/2021 23:09:59</td>\n",
              "      <td>18 - 22</td>\n",
              "      <td>หญิง</td>\n",
              "      <td>มี</td>\n",
              "      <td>3</td>\n",
              "      <td>2</td>\n",
              "      <td>ข่าวสาร</td>\n",
              "      <td>คนเป็นง่อย</td>\n",
              "      <td>TV</td>\n",
              "    </tr>\n",
              "  </tbody>\n",
              "</table>\n",
              "</div>"
            ],
            "text/plain": [
              "            Timestamp  ... ส่วนใหญ่คุณได้รับข้อมูลข่าวสารเกี่ยวกับระบบ AI ผ่านช่องทางใดมากที่สุด\n",
              "1  8/11/2021 22:55:31  ...                                            Twitter                   \n",
              "2  8/11/2021 23:08:13  ...                                            Twitter                   \n",
              "3  8/11/2021 23:08:25  ...                                           Facebook                   \n",
              "4  8/11/2021 23:09:07  ...                                           Facebook                   \n",
              "5  8/11/2021 23:09:59  ...                                                 TV                   \n",
              "\n",
              "[5 rows x 9 columns]"
            ]
          },
          "metadata": {},
          "execution_count": 17
        }
      ]
    },
    {
      "cell_type": "markdown",
      "metadata": {
        "id": "m2VcpsuEZA7g"
      },
      "source": [
        "#แก้ไขคอลัมน์ที่ 2 ให้เหมือนกัน"
      ]
    },
    {
      "cell_type": "code",
      "metadata": {
        "id": "-_t7kBHHAS-M"
      },
      "source": [
        "form_AI['คุณคิดว่าAIมีความจำเป็นในชีวิตประจำวันหรือไม่'].replace({\n",
        "        'มี':'มี / จำเป็นอย่างมาก',\n",
        "    }, inplace=True)  "
      ],
      "execution_count": 18,
      "outputs": []
    },
    {
      "cell_type": "code",
      "metadata": {
        "colab": {
          "base_uri": "https://localhost:8080/",
          "height": 356
        },
        "id": "YEFmSQ3HBDQm",
        "outputId": "45dd2ce3-6f00-476f-c96c-adff0ecffef9"
      },
      "source": [
        "form_AI.head()"
      ],
      "execution_count": 19,
      "outputs": [
        {
          "output_type": "execute_result",
          "data": {
            "text/html": [
              "<div>\n",
              "<style scoped>\n",
              "    .dataframe tbody tr th:only-of-type {\n",
              "        vertical-align: middle;\n",
              "    }\n",
              "\n",
              "    .dataframe tbody tr th {\n",
              "        vertical-align: top;\n",
              "    }\n",
              "\n",
              "    .dataframe thead th {\n",
              "        text-align: right;\n",
              "    }\n",
              "</style>\n",
              "<table border=\"1\" class=\"dataframe\">\n",
              "  <thead>\n",
              "    <tr style=\"text-align: right;\">\n",
              "      <th></th>\n",
              "      <th>Timestamp</th>\n",
              "      <th>อายุ</th>\n",
              "      <th>เพศ</th>\n",
              "      <th>คุณคิดว่าAIมีความจำเป็นในชีวิตประจำวันหรือไม่</th>\n",
              "      <th>คุณมีความรู้ความสนใจเรื่องระบบ AI มากน้อยเพียงใด</th>\n",
              "      <th>คุณคิดว่าระบบ AI มีการเข้าถึงและการใช้งานง่ายหรือไม่</th>\n",
              "      <th>คุณต้องการให้ระบบ AI มามีส่วนช่วยในเรื่องใดมากที่สุด</th>\n",
              "      <th>คุณคิดว่าจะมีผลตามมาอย่างไร หากมีการใช้ AI มากขึ้น</th>\n",
              "      <th>ส่วนใหญ่คุณได้รับข้อมูลข่าวสารเกี่ยวกับระบบ AI ผ่านช่องทางใดมากที่สุด</th>\n",
              "    </tr>\n",
              "  </thead>\n",
              "  <tbody>\n",
              "    <tr>\n",
              "      <th>1</th>\n",
              "      <td>8/11/2021 22:55:31</td>\n",
              "      <td>18 - 22</td>\n",
              "      <td>หญิง</td>\n",
              "      <td>มี / จำเป็นอย่างมาก</td>\n",
              "      <td>2</td>\n",
              "      <td>2</td>\n",
              "      <td>การศึกษา</td>\n",
              "      <td>ปัญหาการถูกแย่งอาชีพ</td>\n",
              "      <td>Twitter</td>\n",
              "    </tr>\n",
              "    <tr>\n",
              "      <th>2</th>\n",
              "      <td>8/11/2021 23:08:13</td>\n",
              "      <td>18 - 22</td>\n",
              "      <td>หญิง</td>\n",
              "      <td>มี / จำเป็นอย่างมาก</td>\n",
              "      <td>3</td>\n",
              "      <td>1</td>\n",
              "      <td>ทำความสะอาดบ้าน</td>\n",
              "      <td>สะดวกสบายขึ้น</td>\n",
              "      <td>Twitter</td>\n",
              "    </tr>\n",
              "    <tr>\n",
              "      <th>3</th>\n",
              "      <td>8/11/2021 23:08:25</td>\n",
              "      <td>18 - 22</td>\n",
              "      <td>LGBTQA+++</td>\n",
              "      <td>มี / จำเป็นอย่างมาก</td>\n",
              "      <td>2</td>\n",
              "      <td>2</td>\n",
              "      <td>การแพทย์</td>\n",
              "      <td>มนุษย์สะดวกสบายมากขึ้น</td>\n",
              "      <td>Facebook</td>\n",
              "    </tr>\n",
              "    <tr>\n",
              "      <th>4</th>\n",
              "      <td>8/11/2021 23:09:07</td>\n",
              "      <td>23-27</td>\n",
              "      <td>LGBTQA+++</td>\n",
              "      <td>มี / จำเป็นอย่างมาก</td>\n",
              "      <td>3</td>\n",
              "      <td>2</td>\n",
              "      <td>การสื่อสาร</td>\n",
              "      <td>มนุษย์อาจจะละเลยการทำงานที่เรียบง่ายไป</td>\n",
              "      <td>Facebook</td>\n",
              "    </tr>\n",
              "    <tr>\n",
              "      <th>5</th>\n",
              "      <td>8/11/2021 23:09:59</td>\n",
              "      <td>18 - 22</td>\n",
              "      <td>หญิง</td>\n",
              "      <td>มี / จำเป็นอย่างมาก</td>\n",
              "      <td>3</td>\n",
              "      <td>2</td>\n",
              "      <td>ข่าวสาร</td>\n",
              "      <td>คนเป็นง่อย</td>\n",
              "      <td>TV</td>\n",
              "    </tr>\n",
              "  </tbody>\n",
              "</table>\n",
              "</div>"
            ],
            "text/plain": [
              "            Timestamp  ... ส่วนใหญ่คุณได้รับข้อมูลข่าวสารเกี่ยวกับระบบ AI ผ่านช่องทางใดมากที่สุด\n",
              "1  8/11/2021 22:55:31  ...                                            Twitter                   \n",
              "2  8/11/2021 23:08:13  ...                                            Twitter                   \n",
              "3  8/11/2021 23:08:25  ...                                           Facebook                   \n",
              "4  8/11/2021 23:09:07  ...                                           Facebook                   \n",
              "5  8/11/2021 23:09:59  ...                                                 TV                   \n",
              "\n",
              "[5 rows x 9 columns]"
            ]
          },
          "metadata": {},
          "execution_count": 19
        }
      ]
    },
    {
      "cell_type": "code",
      "metadata": {
        "id": "vjfFirctSsJ1"
      },
      "source": [
        "form_AI.to_csv('AI_project.csv')"
      ],
      "execution_count": 20,
      "outputs": []
    },
    {
      "cell_type": "markdown",
      "metadata": {
        "id": "qoLhIWfOZ1Eo"
      },
      "source": [
        "#แสดงข้อมูลของคอลลัมน์ที่ 5-6"
      ]
    },
    {
      "cell_type": "code",
      "metadata": {
        "colab": {
          "base_uri": "https://localhost:8080/",
          "height": 204
        },
        "id": "CgmLgyddCcP4",
        "outputId": "64e98eb5-53cc-47f3-e13d-ee0270f76c36"
      },
      "source": [
        "ABC = form_AI[['คุณมีความรู้ความสนใจเรื่องระบบ AI มากน้อยเพียงใด','คุณคิดว่าระบบ AI มีการเข้าถึงและการใช้งานง่ายหรือไม่']]\n",
        "ABC.head()"
      ],
      "execution_count": 21,
      "outputs": [
        {
          "output_type": "execute_result",
          "data": {
            "text/html": [
              "<div>\n",
              "<style scoped>\n",
              "    .dataframe tbody tr th:only-of-type {\n",
              "        vertical-align: middle;\n",
              "    }\n",
              "\n",
              "    .dataframe tbody tr th {\n",
              "        vertical-align: top;\n",
              "    }\n",
              "\n",
              "    .dataframe thead th {\n",
              "        text-align: right;\n",
              "    }\n",
              "</style>\n",
              "<table border=\"1\" class=\"dataframe\">\n",
              "  <thead>\n",
              "    <tr style=\"text-align: right;\">\n",
              "      <th></th>\n",
              "      <th>คุณมีความรู้ความสนใจเรื่องระบบ AI มากน้อยเพียงใด</th>\n",
              "      <th>คุณคิดว่าระบบ AI มีการเข้าถึงและการใช้งานง่ายหรือไม่</th>\n",
              "    </tr>\n",
              "  </thead>\n",
              "  <tbody>\n",
              "    <tr>\n",
              "      <th>1</th>\n",
              "      <td>2</td>\n",
              "      <td>2</td>\n",
              "    </tr>\n",
              "    <tr>\n",
              "      <th>2</th>\n",
              "      <td>3</td>\n",
              "      <td>1</td>\n",
              "    </tr>\n",
              "    <tr>\n",
              "      <th>3</th>\n",
              "      <td>2</td>\n",
              "      <td>2</td>\n",
              "    </tr>\n",
              "    <tr>\n",
              "      <th>4</th>\n",
              "      <td>3</td>\n",
              "      <td>2</td>\n",
              "    </tr>\n",
              "    <tr>\n",
              "      <th>5</th>\n",
              "      <td>3</td>\n",
              "      <td>2</td>\n",
              "    </tr>\n",
              "  </tbody>\n",
              "</table>\n",
              "</div>"
            ],
            "text/plain": [
              "   คุณมีความรู้ความสนใจเรื่องระบบ AI มากน้อยเพียงใด  คุณคิดว่าระบบ AI มีการเข้าถึงและการใช้งานง่ายหรือไม่\n",
              "1                                                 2                                                  2   \n",
              "2                                                 3                                                  1   \n",
              "3                                                 2                                                  2   \n",
              "4                                                 3                                                  2   \n",
              "5                                                 3                                                  2   "
            ]
          },
          "metadata": {},
          "execution_count": 21
        }
      ]
    },
    {
      "cell_type": "code",
      "metadata": {
        "colab": {
          "base_uri": "https://localhost:8080/"
        },
        "id": "wkrU_h7kCcUc",
        "outputId": "9ca00840-fb89-4825-c6fd-02c2ae04edf5"
      },
      "source": [
        "AI = ABC.mean()\n",
        "print(AI)"
      ],
      "execution_count": 22,
      "outputs": [
        {
          "output_type": "stream",
          "text": [
            "คุณมีความรู้ความสนใจเรื่องระบบ AI มากน้อยเพียงใด        3.291667\n",
            "คุณคิดว่าระบบ AI มีการเข้าถึงและการใช้งานง่ายหรือไม่    1.975000\n",
            "dtype: float64\n"
          ],
          "name": "stdout"
        }
      ]
    },
    {
      "cell_type": "code",
      "metadata": {
        "id": "ZzngBWEHZe2k"
      },
      "source": [
        "AI.to_csv('Robot.csv')"
      ],
      "execution_count": 23,
      "outputs": []
    }
  ]
}